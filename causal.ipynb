{
 "cells": [
  {
   "cell_type": "code",
   "execution_count": 30,
   "metadata": {},
   "outputs": [
    {
     "name": "stdout",
     "output_type": "stream",
     "text": [
      "['1.19.1', '1.0.1', '0.16', '1.5.5']\n",
      "['0. CRIM', '1. ZN', '2. INDUS', '3. CHAS', '4. NOX', '5. RM', '6. AGE', '7. DIS', '8. RAD', '9. TAX', '10. PTRATIO', '11. B', '12. LSTAT', '13. PRICE']\n"
     ]
    }
   ],
   "source": [
    "import pandas as pd\n",
    "import numpy as np\n",
    "# np.set_printoptions(threshold = np.inf)\n",
    "\n",
    "from sklearn.datasets import load_boston\n",
    "\n",
    "import graphviz\n",
    "import lingam\n",
    "from lingam.utils import make_dot\n",
    "\n",
    "# def make_graph(adjacency_matrix, labels=None):\n",
    "#     idx = np.abs(adjacency_matrix) > 0.5\n",
    "#     dirs = np.where(idx)  # 返回数组元素为true的值的横纵坐标\n",
    "    \n",
    "#     d = graphviz.Digraph(format='png', engine='dot')\n",
    "\n",
    "#     names = labels if labels else [f'x{i}' for i in range(len(adjacency_matrix))]\n",
    "#     for to, from_, coef in zip(dirs[0], dirs[1], adjacency_matrix[idx]):\n",
    "#         d.edge(names[from_], names[to], label=f'{coef:.2f}')\n",
    "#     return d\n",
    "\n",
    "print([np.__version__, pd.__version__, graphviz.__version__, lingam.__version__])\n",
    "\n",
    "np.set_printoptions(precision=3, suppress=True)\n",
    "np.random.seed(100)\n",
    "\n",
    "boston = load_boston()\n",
    "df = pd.DataFrame(boston.data, columns = boston.feature_names)\n",
    "\n",
    "df['PRICE'] = boston.target\n",
    "\n",
    "# print(df.head())\n",
    "\n",
    "model = lingam.DirectLiNGAM()\n",
    "model.fit(df)\n",
    "\n",
    "# print(model.adjacency_matrix_)\n",
    "# idx = np.abs(model.adjacency_matrix_) > 0.5\n",
    "# # irs = np.where()\n",
    "# print(idx)\n",
    "# dirs = np.where(idx)\n",
    "# print(dirs)\n",
    "# names = labels if labels else ['{}'.format(i) for i in range(len(adjacency_matrix))]\n",
    "# print(names)\n",
    "\n",
    "\n",
    "# labels = ['{}. {}'.format(i, col) for i, col in enumerate(df.columns)]\n",
    "\n",
    "# print(labels)\n",
    "# make_graph(model.adjacency_matrix_, labels)\n",
    "\n",
    "# dot = make_dot(model.adjacency_matrix_)\n",
    "# # Save pdf\n",
    "# dot.render('dag')\n",
    "\n",
    "# # Save png\n",
    "# dot.format = 'png'\n",
    "# dot.render('dag')\n",
    "\n",
    "# dot.view()\n",
    "\n",
    "# # print(dot)\n"
   ]
  },
  {
   "cell_type": "code",
   "execution_count": 6,
   "metadata": {},
   "outputs": [
    {
     "data": {
      "text/plain": [
       "'测试.gv.pdf'"
      ]
     },
     "execution_count": 6,
     "metadata": {},
     "output_type": "execute_result"
    }
   ],
   "source": [
    "from graphviz import Digraph\n",
    "\n",
    "dot = Digraph('测试')\n",
    "dot.node(\"1\",\"Life's too short\")\n",
    "dot.node(\"2\",\"I learn Python\")\n",
    "dot.edge('1','2')\n",
    "\n",
    "dot.view()"
   ]
  },
  {
   "cell_type": "markdown",
   "metadata": {},
   "source": []
  }
 ],
 "metadata": {
  "kernelspec": {
   "display_name": "Python 3",
   "language": "python",
   "name": "python3"
  },
  "language_info": {
   "codemirror_mode": {
    "name": "ipython",
    "version": 3
   },
   "file_extension": ".py",
   "mimetype": "text/x-python",
   "name": "python",
   "nbconvert_exporter": "python",
   "pygments_lexer": "ipython3",
   "version": "3.7.6"
  }
 },
 "nbformat": 4,
 "nbformat_minor": 4
}
